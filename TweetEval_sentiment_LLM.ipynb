{
  "metadata": {
    "kernelspec": {
      "language": "python",
      "display_name": "Python 3",
      "name": "python3"
    },
    "language_info": {
      "name": "python",
      "version": "3.10.13",
      "mimetype": "text/x-python",
      "codemirror_mode": {
        "name": "ipython",
        "version": 3
      },
      "pygments_lexer": "ipython3",
      "nbconvert_exporter": "python",
      "file_extension": ".py"
    },
    "kaggle": {
      "accelerator": "gpu",
      "dataSources": [],
      "dockerImageVersionId": 30683,
      "isInternetEnabled": true,
      "language": "python",
      "sourceType": "notebook",
      "isGpuEnabled": true
    },
    "colab": {
      "provenance": []
    }
  },
  "nbformat_minor": 0,
  "nbformat": 4,
  "cells": [
    {
      "cell_type": "code",
      "source": [
        "!pip install transformers datasets"
      ],
      "metadata": {
        "_uuid": "8f2839f25d086af736a60e9eeb907d3b93b6e0e5",
        "_cell_guid": "b1076dfc-b9ad-4769-8c92-a6c4dae69d19",
        "execution": {
          "iopub.status.busy": "2024-04-10T07:57:07.532994Z",
          "iopub.execute_input": "2024-04-10T07:57:07.533876Z",
          "iopub.status.idle": "2024-04-10T07:57:20.540037Z",
          "shell.execute_reply.started": "2024-04-10T07:57:07.533833Z",
          "shell.execute_reply": "2024-04-10T07:57:20.53892Z"
        },
        "trusted": true,
        "id": "KYlfcPAD9IMi",
        "outputId": "da68b45a-5117-4903-98e2-c29cb24e0484"
      },
      "execution_count": null,
      "outputs": [
        {
          "name": "stdout",
          "text": "Requirement already satisfied: transformers in /opt/conda/lib/python3.10/site-packages (4.39.3)\nRequirement already satisfied: datasets in /opt/conda/lib/python3.10/site-packages (2.18.0)\nRequirement already satisfied: filelock in /opt/conda/lib/python3.10/site-packages (from transformers) (3.13.1)\nRequirement already satisfied: huggingface-hub<1.0,>=0.19.3 in /opt/conda/lib/python3.10/site-packages (from transformers) (0.22.2)\nRequirement already satisfied: numpy>=1.17 in /opt/conda/lib/python3.10/site-packages (from transformers) (1.26.4)\nRequirement already satisfied: packaging>=20.0 in /opt/conda/lib/python3.10/site-packages (from transformers) (21.3)\nRequirement already satisfied: pyyaml>=5.1 in /opt/conda/lib/python3.10/site-packages (from transformers) (6.0.1)\nRequirement already satisfied: regex!=2019.12.17 in /opt/conda/lib/python3.10/site-packages (from transformers) (2023.12.25)\nRequirement already satisfied: requests in /opt/conda/lib/python3.10/site-packages (from transformers) (2.31.0)\nRequirement already satisfied: tokenizers<0.19,>=0.14 in /opt/conda/lib/python3.10/site-packages (from transformers) (0.15.2)\nRequirement already satisfied: safetensors>=0.4.1 in /opt/conda/lib/python3.10/site-packages (from transformers) (0.4.2)\nRequirement already satisfied: tqdm>=4.27 in /opt/conda/lib/python3.10/site-packages (from transformers) (4.66.1)\nRequirement already satisfied: pyarrow>=12.0.0 in /opt/conda/lib/python3.10/site-packages (from datasets) (15.0.2)\nRequirement already satisfied: pyarrow-hotfix in /opt/conda/lib/python3.10/site-packages (from datasets) (0.6)\nRequirement already satisfied: dill<0.3.9,>=0.3.0 in /opt/conda/lib/python3.10/site-packages (from datasets) (0.3.8)\nRequirement already satisfied: pandas in /opt/conda/lib/python3.10/site-packages (from datasets) (2.1.4)\nRequirement already satisfied: xxhash in /opt/conda/lib/python3.10/site-packages (from datasets) (3.4.1)\nRequirement already satisfied: multiprocess in /opt/conda/lib/python3.10/site-packages (from datasets) (0.70.16)\nRequirement already satisfied: fsspec<=2024.2.0,>=2023.1.0 in /opt/conda/lib/python3.10/site-packages (from fsspec[http]<=2024.2.0,>=2023.1.0->datasets) (2024.2.0)\nRequirement already satisfied: aiohttp in /opt/conda/lib/python3.10/site-packages (from datasets) (3.9.1)\nRequirement already satisfied: attrs>=17.3.0 in /opt/conda/lib/python3.10/site-packages (from aiohttp->datasets) (23.2.0)\nRequirement already satisfied: multidict<7.0,>=4.5 in /opt/conda/lib/python3.10/site-packages (from aiohttp->datasets) (6.0.4)\nRequirement already satisfied: yarl<2.0,>=1.0 in /opt/conda/lib/python3.10/site-packages (from aiohttp->datasets) (1.9.3)\nRequirement already satisfied: frozenlist>=1.1.1 in /opt/conda/lib/python3.10/site-packages (from aiohttp->datasets) (1.4.1)\nRequirement already satisfied: aiosignal>=1.1.2 in /opt/conda/lib/python3.10/site-packages (from aiohttp->datasets) (1.3.1)\nRequirement already satisfied: async-timeout<5.0,>=4.0 in /opt/conda/lib/python3.10/site-packages (from aiohttp->datasets) (4.0.3)\nRequirement already satisfied: typing-extensions>=3.7.4.3 in /opt/conda/lib/python3.10/site-packages (from huggingface-hub<1.0,>=0.19.3->transformers) (4.9.0)\nRequirement already satisfied: pyparsing!=3.0.5,>=2.0.2 in /opt/conda/lib/python3.10/site-packages (from packaging>=20.0->transformers) (3.1.1)\nRequirement already satisfied: charset-normalizer<4,>=2 in /opt/conda/lib/python3.10/site-packages (from requests->transformers) (3.3.2)\nRequirement already satisfied: idna<4,>=2.5 in /opt/conda/lib/python3.10/site-packages (from requests->transformers) (3.6)\nRequirement already satisfied: urllib3<3,>=1.21.1 in /opt/conda/lib/python3.10/site-packages (from requests->transformers) (1.26.18)\nRequirement already satisfied: certifi>=2017.4.17 in /opt/conda/lib/python3.10/site-packages (from requests->transformers) (2024.2.2)\nRequirement already satisfied: python-dateutil>=2.8.2 in /opt/conda/lib/python3.10/site-packages (from pandas->datasets) (2.9.0.post0)\nRequirement already satisfied: pytz>=2020.1 in /opt/conda/lib/python3.10/site-packages (from pandas->datasets) (2023.3.post1)\nRequirement already satisfied: tzdata>=2022.1 in /opt/conda/lib/python3.10/site-packages (from pandas->datasets) (2023.4)\nRequirement already satisfied: six>=1.5 in /opt/conda/lib/python3.10/site-packages (from python-dateutil>=2.8.2->pandas->datasets) (1.16.0)\n",
          "output_type": "stream"
        }
      ]
    },
    {
      "cell_type": "code",
      "source": [
        "from datasets import load_dataset\n",
        "import pandas as pd\n",
        "\n",
        "# Load the 'sentiment' task data from the TweetEval dataset\n",
        "dataset = load_dataset(\"tweet_eval\", \"sentiment\")\n",
        "\n",
        "# Convert the dataset to a pandas DataFrame for easier manipulation\n",
        "df = pd.DataFrame(dataset['train'])\n"
      ],
      "metadata": {
        "execution": {
          "iopub.status.busy": "2024-04-10T07:57:20.542167Z",
          "iopub.execute_input": "2024-04-10T07:57:20.542492Z",
          "iopub.status.idle": "2024-04-10T07:57:39.557758Z",
          "shell.execute_reply.started": "2024-04-10T07:57:20.542462Z",
          "shell.execute_reply": "2024-04-10T07:57:39.556868Z"
        },
        "trusted": true,
        "id": "k0fVTQTc9IMn",
        "outputId": "25c70f53-7861-4d5d-8922-3245a3bd3ae5",
        "colab": {
          "referenced_widgets": [
            "89c45e04146c481eb74fd653cacb1f16",
            "4a2d9ea46762476ba35a5f03131d492b",
            "3f17193766494daea0949f7ed1cd8175",
            "20f9a55d028c4626bca7c0289d43c994"
          ]
        }
      },
      "execution_count": null,
      "outputs": [
        {
          "output_type": "display_data",
          "data": {
            "text/plain": "Downloading readme:   0%|          | 0.00/23.9k [00:00<?, ?B/s]",
            "application/vnd.jupyter.widget-view+json": {
              "version_major": 2,
              "version_minor": 0,
              "model_id": "89c45e04146c481eb74fd653cacb1f16"
            }
          },
          "metadata": {}
        },
        {
          "name": "stderr",
          "text": "Downloading data: 100%|██████████| 3.78M/3.78M [00:02<00:00, 1.50MB/s]\nDownloading data: 100%|██████████| 901k/901k [00:02<00:00, 427kB/s]\nDownloading data: 100%|██████████| 167k/167k [00:01<00:00, 93.0kB/s]\n",
          "output_type": "stream"
        },
        {
          "output_type": "display_data",
          "data": {
            "text/plain": "Generating train split:   0%|          | 0/45615 [00:00<?, ? examples/s]",
            "application/vnd.jupyter.widget-view+json": {
              "version_major": 2,
              "version_minor": 0,
              "model_id": "4a2d9ea46762476ba35a5f03131d492b"
            }
          },
          "metadata": {}
        },
        {
          "output_type": "display_data",
          "data": {
            "text/plain": "Generating test split:   0%|          | 0/12284 [00:00<?, ? examples/s]",
            "application/vnd.jupyter.widget-view+json": {
              "version_major": 2,
              "version_minor": 0,
              "model_id": "3f17193766494daea0949f7ed1cd8175"
            }
          },
          "metadata": {}
        },
        {
          "output_type": "display_data",
          "data": {
            "text/plain": "Generating validation split:   0%|          | 0/2000 [00:00<?, ? examples/s]",
            "application/vnd.jupyter.widget-view+json": {
              "version_major": 2,
              "version_minor": 0,
              "model_id": "20f9a55d028c4626bca7c0289d43c994"
            }
          },
          "metadata": {}
        }
      ]
    },
    {
      "cell_type": "code",
      "source": [
        "#check more details\n",
        "dataset"
      ],
      "metadata": {
        "execution": {
          "iopub.status.busy": "2024-04-10T07:57:39.558868Z",
          "iopub.execute_input": "2024-04-10T07:57:39.559135Z",
          "iopub.status.idle": "2024-04-10T07:57:39.56626Z",
          "shell.execute_reply.started": "2024-04-10T07:57:39.559112Z",
          "shell.execute_reply": "2024-04-10T07:57:39.565258Z"
        },
        "trusted": true,
        "id": "1bvdD7Gw9IMo",
        "outputId": "395e058e-dfa3-4e92-8f8a-be74125fb457"
      },
      "execution_count": null,
      "outputs": [
        {
          "execution_count": 8,
          "output_type": "execute_result",
          "data": {
            "text/plain": "DatasetDict({\n    train: Dataset({\n        features: ['text', 'label'],\n        num_rows: 45615\n    })\n    test: Dataset({\n        features: ['text', 'label'],\n        num_rows: 12284\n    })\n    validation: Dataset({\n        features: ['text', 'label'],\n        num_rows: 2000\n    })\n})"
          },
          "metadata": {}
        }
      ]
    },
    {
      "cell_type": "code",
      "source": [
        "\n",
        "\n",
        "import matplotlib.pyplot as plt\n",
        "import seaborn as sns\n",
        "from collections import Counter\n",
        "\n",
        "# 'df' is a pandas DataFrame that has already been created and contains the sentiment labels\n",
        "labels = df['label']\n",
        "label_counter = Counter(labels)\n",
        "\n",
        "# Create a bar plot to show the distribution of sentiment labels\n",
        "plt.figure(figsize=(7, 5))\n",
        "sns.barplot(x=list(label_counter.keys()), y=list(label_counter.values()))\n",
        "plt.title('Class Distribution')\n",
        "plt.xlabel('Sentiment')\n",
        "plt.ylabel('Number of Samples')\n",
        "plt.show()\n"
      ],
      "metadata": {
        "execution": {
          "iopub.status.busy": "2024-04-10T07:54:36.02282Z",
          "iopub.status.idle": "2024-04-10T07:54:36.023136Z",
          "shell.execute_reply.started": "2024-04-10T07:54:36.022981Z",
          "shell.execute_reply": "2024-04-10T07:54:36.022994Z"
        },
        "trusted": true,
        "id": "tTBgRiVi9IMp"
      },
      "execution_count": null,
      "outputs": []
    },
    {
      "cell_type": "code",
      "source": [
        "# Visualize word counts with a word cloud\n",
        "import matplotlib.pyplot as plt\n",
        "from wordcloud import WordCloud\n",
        "\n",
        "# Assuming 'dataset' is already loaded and contains the text data\n",
        "all_text = ' '.join(dataset['train']['text'])\n",
        "\n",
        "# Generate a word cloud image\n",
        "wordcloud = WordCloud(width=800, height=400, background_color='white').generate(all_text)\n",
        "\n",
        "# Display the word cloud image\n",
        "plt.figure(figsize=(10, 5))\n",
        "plt.imshow(wordcloud, interpolation='bilinear')  # 'bilinear' interpolation for smoother appearance\n",
        "plt.axis('off')  # Turn off the axis labels\n",
        "plt.show()"
      ],
      "metadata": {
        "execution": {
          "iopub.status.busy": "2024-04-10T07:54:36.024195Z",
          "iopub.status.idle": "2024-04-10T07:54:36.024528Z",
          "shell.execute_reply.started": "2024-04-10T07:54:36.024364Z",
          "shell.execute_reply": "2024-04-10T07:54:36.024377Z"
        },
        "trusted": true,
        "id": "eDuZb1a_9IMp"
      },
      "execution_count": null,
      "outputs": []
    },
    {
      "cell_type": "code",
      "source": [
        "import nltk\n",
        "from nltk.corpus import stopwords\n",
        "from nltk.tokenize import word_tokenize\n",
        "from nltk.stem import WordNetLemmatizer\n",
        "from collections import Counter\n",
        "from transformers import BertTokenizer, BertForSequenceClassification, Trainer, TrainingArguments\n",
        "from datasets import load_dataset\n",
        "import numpy as np\n",
        "from sklearn.metrics import accuracy_score, precision_recall_fscore_support"
      ],
      "metadata": {
        "execution": {
          "iopub.status.busy": "2024-04-10T07:54:36.025224Z",
          "iopub.status.idle": "2024-04-10T07:54:36.025553Z",
          "shell.execute_reply.started": "2024-04-10T07:54:36.02539Z",
          "shell.execute_reply": "2024-04-10T07:54:36.025403Z"
        },
        "trusted": true,
        "id": "M0bhytvs9IMq"
      },
      "execution_count": null,
      "outputs": []
    },
    {
      "cell_type": "code",
      "source": [
        "from transformers import AutoModelForSequenceClassification, BertTokenizer\n",
        "\n",
        "# Load a pre-trained BERT tokenizer for processing text\n",
        "tokenizer = BertTokenizer.from_pretrained('bert-base-uncased')\n",
        "\n",
        "# Load a pre-trained BERT model specifically for sequence classification\n",
        "# This model is configured to classify sequences into one of three categories\n",
        "model = AutoModelForSequenceClassification.from_pretrained('bert-base-uncased', num_labels=3)\n"
      ],
      "metadata": {
        "execution": {
          "iopub.status.busy": "2024-04-10T07:58:20.672283Z",
          "iopub.execute_input": "2024-04-10T07:58:20.672984Z",
          "iopub.status.idle": "2024-04-10T07:58:21.449544Z",
          "shell.execute_reply.started": "2024-04-10T07:58:20.672954Z",
          "shell.execute_reply": "2024-04-10T07:58:21.448525Z"
        },
        "trusted": true,
        "id": "LZ74sJyP9IMq",
        "outputId": "4d07dce7-5e9e-4257-91a2-c792bc7b61af"
      },
      "execution_count": null,
      "outputs": [
        {
          "name": "stderr",
          "text": "Some weights of BertForSequenceClassification were not initialized from the model checkpoint at bert-base-uncased and are newly initialized: ['classifier.bias', 'classifier.weight']\nYou should probably TRAIN this model on a down-stream task to be able to use it for predictions and inference.\n",
          "output_type": "stream"
        }
      ]
    },
    {
      "cell_type": "code",
      "source": [
        "# Define a function to tokenize text data.\n",
        "# This function applies the tokenizer to each example, padding and truncating as necessary.\n",
        "def tokenize_function(examples):\n",
        "    # `padding='max_length'` ensures all sequences are padded to the same length for batch processing.\n",
        "    # `truncation=True` truncates sequences longer than the model's maximum input length.\n",
        "    return tokenizer(examples['text'], padding='max_length', truncation=True)\n",
        "\n",
        "# Apply the tokenize function to all examples in the dataset in batches.\n",
        "tokenized_datasets = dataset.map(tokenize_function, batched=True)\n",
        "\n",
        "# Split the data into smaller subsets for training and evaluation to enable quicker experimentation.\n",
        "# Shuffle the train dataset with a fixed seed to ensure reproducibility.\n",
        "small_train_dataset = tokenized_datasets['train'].shuffle(seed=42).select(range(4000))\n",
        "# Similarly, shuffle the test dataset and select a smaller subset for validation.\n",
        "small_eval_dataset = tokenized_datasets['test'].shuffle(seed=42).select(range(1000))\n"
      ],
      "metadata": {
        "execution": {
          "iopub.status.busy": "2024-04-10T07:58:47.348004Z",
          "iopub.execute_input": "2024-04-10T07:58:47.348386Z",
          "iopub.status.idle": "2024-04-10T07:59:54.805872Z",
          "shell.execute_reply.started": "2024-04-10T07:58:47.348356Z",
          "shell.execute_reply": "2024-04-10T07:59:54.80497Z"
        },
        "trusted": true,
        "id": "yib1vm9g9IMr",
        "outputId": "c8cd9b9d-dd4d-403f-8201-3af2c960c594",
        "colab": {
          "referenced_widgets": [
            "1ab1139852f143fab2529644843fa5ae",
            "fd4ff5904cbe47ebab605ef01ae08793",
            "e150b091e19141f1a36a5cf2fbcede0c"
          ]
        }
      },
      "execution_count": null,
      "outputs": [
        {
          "output_type": "display_data",
          "data": {
            "text/plain": "Map:   0%|          | 0/45615 [00:00<?, ? examples/s]",
            "application/vnd.jupyter.widget-view+json": {
              "version_major": 2,
              "version_minor": 0,
              "model_id": "1ab1139852f143fab2529644843fa5ae"
            }
          },
          "metadata": {}
        },
        {
          "output_type": "display_data",
          "data": {
            "text/plain": "Map:   0%|          | 0/12284 [00:00<?, ? examples/s]",
            "application/vnd.jupyter.widget-view+json": {
              "version_major": 2,
              "version_minor": 0,
              "model_id": "fd4ff5904cbe47ebab605ef01ae08793"
            }
          },
          "metadata": {}
        },
        {
          "output_type": "display_data",
          "data": {
            "text/plain": "Map:   0%|          | 0/2000 [00:00<?, ? examples/s]",
            "application/vnd.jupyter.widget-view+json": {
              "version_major": 2,
              "version_minor": 0,
              "model_id": "e150b091e19141f1a36a5cf2fbcede0c"
            }
          },
          "metadata": {}
        }
      ]
    },
    {
      "cell_type": "code",
      "source": [
        "!pip install transformers[torch] accelerate -U"
      ],
      "metadata": {
        "execution": {
          "iopub.status.busy": "2024-04-10T08:00:15.066156Z",
          "iopub.execute_input": "2024-04-10T08:00:15.066968Z",
          "iopub.status.idle": "2024-04-10T08:00:28.17415Z",
          "shell.execute_reply.started": "2024-04-10T08:00:15.066927Z",
          "shell.execute_reply": "2024-04-10T08:00:28.173114Z"
        },
        "trusted": true,
        "id": "mSeKqJ1V9IMs",
        "outputId": "3a1927a5-fe58-4334-e077-58649eb2fb82"
      },
      "execution_count": null,
      "outputs": [
        {
          "name": "stdout",
          "text": "Requirement already satisfied: accelerate in /opt/conda/lib/python3.10/site-packages (0.28.0)\nCollecting accelerate\n  Downloading accelerate-0.29.2-py3-none-any.whl.metadata (18 kB)\nRequirement already satisfied: transformers[torch] in /opt/conda/lib/python3.10/site-packages (4.39.3)\nRequirement already satisfied: filelock in /opt/conda/lib/python3.10/site-packages (from transformers[torch]) (3.13.1)\nRequirement already satisfied: huggingface-hub<1.0,>=0.19.3 in /opt/conda/lib/python3.10/site-packages (from transformers[torch]) (0.22.2)\nRequirement already satisfied: numpy>=1.17 in /opt/conda/lib/python3.10/site-packages (from transformers[torch]) (1.26.4)\nRequirement already satisfied: packaging>=20.0 in /opt/conda/lib/python3.10/site-packages (from transformers[torch]) (21.3)\nRequirement already satisfied: pyyaml>=5.1 in /opt/conda/lib/python3.10/site-packages (from transformers[torch]) (6.0.1)\nRequirement already satisfied: regex!=2019.12.17 in /opt/conda/lib/python3.10/site-packages (from transformers[torch]) (2023.12.25)\nRequirement already satisfied: requests in /opt/conda/lib/python3.10/site-packages (from transformers[torch]) (2.31.0)\nRequirement already satisfied: tokenizers<0.19,>=0.14 in /opt/conda/lib/python3.10/site-packages (from transformers[torch]) (0.15.2)\nRequirement already satisfied: safetensors>=0.4.1 in /opt/conda/lib/python3.10/site-packages (from transformers[torch]) (0.4.2)\nRequirement already satisfied: tqdm>=4.27 in /opt/conda/lib/python3.10/site-packages (from transformers[torch]) (4.66.1)\nRequirement already satisfied: torch in /opt/conda/lib/python3.10/site-packages (from transformers[torch]) (2.1.2)\nRequirement already satisfied: psutil in /opt/conda/lib/python3.10/site-packages (from accelerate) (5.9.3)\nRequirement already satisfied: fsspec>=2023.5.0 in /opt/conda/lib/python3.10/site-packages (from huggingface-hub<1.0,>=0.19.3->transformers[torch]) (2024.2.0)\nRequirement already satisfied: typing-extensions>=3.7.4.3 in /opt/conda/lib/python3.10/site-packages (from huggingface-hub<1.0,>=0.19.3->transformers[torch]) (4.9.0)\nRequirement already satisfied: pyparsing!=3.0.5,>=2.0.2 in /opt/conda/lib/python3.10/site-packages (from packaging>=20.0->transformers[torch]) (3.1.1)\nRequirement already satisfied: sympy in /opt/conda/lib/python3.10/site-packages (from torch->transformers[torch]) (1.12)\nRequirement already satisfied: networkx in /opt/conda/lib/python3.10/site-packages (from torch->transformers[torch]) (3.2.1)\nRequirement already satisfied: jinja2 in /opt/conda/lib/python3.10/site-packages (from torch->transformers[torch]) (3.1.2)\nRequirement already satisfied: charset-normalizer<4,>=2 in /opt/conda/lib/python3.10/site-packages (from requests->transformers[torch]) (3.3.2)\nRequirement already satisfied: idna<4,>=2.5 in /opt/conda/lib/python3.10/site-packages (from requests->transformers[torch]) (3.6)\nRequirement already satisfied: urllib3<3,>=1.21.1 in /opt/conda/lib/python3.10/site-packages (from requests->transformers[torch]) (1.26.18)\nRequirement already satisfied: certifi>=2017.4.17 in /opt/conda/lib/python3.10/site-packages (from requests->transformers[torch]) (2024.2.2)\nRequirement already satisfied: MarkupSafe>=2.0 in /opt/conda/lib/python3.10/site-packages (from jinja2->torch->transformers[torch]) (2.1.3)\nRequirement already satisfied: mpmath>=0.19 in /opt/conda/lib/python3.10/site-packages (from sympy->torch->transformers[torch]) (1.3.0)\nDownloading accelerate-0.29.2-py3-none-any.whl (297 kB)\n\u001b[2K   \u001b[90m━━━━━━━━━━━━━━━━━━━━━━━━━━━━━━━━━━━━━━━━\u001b[0m \u001b[32m297.4/297.4 kB\u001b[0m \u001b[31m5.6 MB/s\u001b[0m eta \u001b[36m0:00:00\u001b[0ma \u001b[36m0:00:01\u001b[0m\n\u001b[?25hInstalling collected packages: accelerate\n  Attempting uninstall: accelerate\n    Found existing installation: accelerate 0.28.0\n    Uninstalling accelerate-0.28.0:\n      Successfully uninstalled accelerate-0.28.0\nSuccessfully installed accelerate-0.29.2\n",
          "output_type": "stream"
        }
      ]
    },
    {
      "cell_type": "code",
      "source": [
        "import os\n",
        "\n",
        "# Disable the Weights & Biases integration. This is used to prevent the automatic tracking and logging\n",
        "# of experiments, useful in scenarios where you want to run scripts without sending data to W&B servers.\n",
        "os.environ[\"WANDB_DISABLED\"] = \"true\"\n",
        "\n"
      ],
      "metadata": {
        "execution": {
          "iopub.status.busy": "2024-04-10T08:00:28.176034Z",
          "iopub.execute_input": "2024-04-10T08:00:28.176353Z",
          "iopub.status.idle": "2024-04-10T08:00:28.18098Z",
          "shell.execute_reply.started": "2024-04-10T08:00:28.176314Z",
          "shell.execute_reply": "2024-04-10T08:00:28.180072Z"
        },
        "trusted": true,
        "id": "1aMaROtQ9IMs"
      },
      "execution_count": null,
      "outputs": []
    },
    {
      "cell_type": "code",
      "source": [
        "from transformers import Trainer, TrainingArguments\n",
        "import numpy as np\n",
        "\n",
        "# Define training parameters and configurations for the model\n",
        "training_args = TrainingArguments(\n",
        "    output_dir='./results',           # Directory where model checkpoints will be saved\n",
        "    num_train_epochs=3,               # Total number of training epochs to perform\n",
        "    per_device_train_batch_size=8,    # Batch size per device during training\n",
        "    per_device_eval_batch_size=8,     # Batch size for evaluation\n",
        "    warmup_steps=500,                 # Number of steps to perform learning rate warmup\n",
        "    weight_decay=0.01,                # Weight decay to apply (regularization technique to prevent overfitting)\n",
        "    logging_dir='./logs',             # Directory where logs will be stored\n",
        "    evaluation_strategy='epoch',      # Perform evaluation at the end of each epoch\n",
        ")\n",
        "\n",
        "# Initialize the Trainer, which handles the training loop and evaluation\n",
        "trainer = Trainer(\n",
        "    model=model,                     # The model to be trained, loaded earlier\n",
        "    args=training_args,              # The training arguments defined above\n",
        "    train_dataset=small_train_dataset,  # The training dataset\n",
        "    eval_dataset=small_eval_dataset,    # The evaluation dataset\n",
        "    # Define a function to compute metrics for evaluation\n",
        "    compute_metrics=lambda p: {\n",
        "        \"accuracy\": (np.argmax(p.predictions, axis=1) == p.label_ids).mean()\n",
        "    }\n",
        ")\n",
        "\n",
        "# Train the model according to the specified training arguments and datasets\n",
        "trainer.train()\n"
      ],
      "metadata": {
        "execution": {
          "iopub.status.busy": "2024-04-10T08:18:41.56929Z",
          "iopub.execute_input": "2024-04-10T08:18:41.570384Z",
          "iopub.status.idle": "2024-04-10T08:30:45.713662Z",
          "shell.execute_reply.started": "2024-04-10T08:18:41.570342Z",
          "shell.execute_reply": "2024-04-10T08:30:45.712768Z"
        },
        "trusted": true,
        "id": "ifs7AmY19IMt",
        "outputId": "b8ee31b9-8007-46a3-b59c-a69b39f67008"
      },
      "execution_count": null,
      "outputs": [
        {
          "name": "stderr",
          "text": "Using the `WANDB_DISABLED` environment variable is deprecated and will be removed in v5. Use the --report_to flag to control the integrations used for logging result (for instance --report_to none).\n/opt/conda/lib/python3.10/site-packages/accelerate/accelerator.py:432: FutureWarning: Passing the following arguments to `Accelerator` is deprecated and will be removed in version 1.0 of Accelerate: dict_keys(['dispatch_batches', 'split_batches', 'even_batches', 'use_seedable_sampler']). Please pass an `accelerate.DataLoaderConfiguration` instead: \ndataloader_config = DataLoaderConfiguration(dispatch_batches=None, split_batches=False, even_batches=True, use_seedable_sampler=True)\n  deprecated_dl_args[\"use_seedable_sampler\"] = use_seedable_sampler\n",
          "output_type": "stream"
        },
        {
          "output_type": "display_data",
          "data": {
            "text/plain": "<IPython.core.display.HTML object>",
            "text/html": "\n    <div>\n      \n      <progress value='1500' max='1500' style='width:300px; height:20px; vertical-align: middle;'></progress>\n      [1500/1500 12:03, Epoch 3/3]\n    </div>\n    <table border=\"1\" class=\"dataframe\">\n  <thead>\n <tr style=\"text-align: left;\">\n      <th>Epoch</th>\n      <th>Training Loss</th>\n      <th>Validation Loss</th>\n      <th>Accuracy</th>\n    </tr>\n  </thead>\n  <tbody>\n    <tr>\n      <td>1</td>\n      <td>0.236200</td>\n      <td>1.658228</td>\n      <td>0.612000</td>\n    </tr>\n    <tr>\n      <td>2</td>\n      <td>0.190800</td>\n      <td>1.718583</td>\n      <td>0.642000</td>\n    </tr>\n    <tr>\n      <td>3</td>\n      <td>0.114500</td>\n      <td>1.930120</td>\n      <td>0.661000</td>\n    </tr>\n  </tbody>\n</table><p>"
          },
          "metadata": {}
        },
        {
          "execution_count": 18,
          "output_type": "execute_result",
          "data": {
            "text/plain": "TrainOutput(global_step=1500, training_loss=0.18052713012695312, metrics={'train_runtime': 723.5471, 'train_samples_per_second': 16.585, 'train_steps_per_second': 2.073, 'total_flos': 3157361012736000.0, 'train_loss': 0.18052713012695312, 'epoch': 3.0})"
          },
          "metadata": {}
        }
      ]
    },
    {
      "cell_type": "code",
      "source": [
        "#evaluate the trained model\n",
        "trainer.evaluate()\n"
      ],
      "metadata": {
        "execution": {
          "iopub.status.busy": "2024-04-10T08:32:39.245974Z",
          "iopub.execute_input": "2024-04-10T08:32:39.246472Z",
          "iopub.status.idle": "2024-04-10T08:32:57.780013Z",
          "shell.execute_reply.started": "2024-04-10T08:32:39.246436Z",
          "shell.execute_reply": "2024-04-10T08:32:57.779264Z"
        },
        "trusted": true,
        "id": "3A5v5Hso9IMu",
        "outputId": "7f77b880-646a-4f6f-b43b-0c4b3cd72af5"
      },
      "execution_count": null,
      "outputs": [
        {
          "output_type": "display_data",
          "data": {
            "text/plain": "<IPython.core.display.HTML object>",
            "text/html": "\n    <div>\n      \n      <progress value='125' max='125' style='width:300px; height:20px; vertical-align: middle;'></progress>\n      [125/125 00:18]\n    </div>\n    "
          },
          "metadata": {}
        },
        {
          "execution_count": 19,
          "output_type": "execute_result",
          "data": {
            "text/plain": "{'eval_loss': 1.9301201105117798,\n 'eval_accuracy': 0.661,\n 'eval_runtime': 18.5206,\n 'eval_samples_per_second': 53.994,\n 'eval_steps_per_second': 6.749,\n 'epoch': 3.0}"
          },
          "metadata": {}
        }
      ]
    },
    {
      "cell_type": "code",
      "source": [],
      "metadata": {
        "id": "uZzISrd19IMu"
      },
      "execution_count": null,
      "outputs": []
    }
  ]
}